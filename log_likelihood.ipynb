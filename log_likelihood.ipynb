{
 "cells": [
  {
   "cell_type": "code",
   "execution_count": 1,
   "id": "initial_id",
   "metadata": {
    "collapsed": true,
    "ExecuteTime": {
     "end_time": "2024-02-26T10:16:43.057722082Z",
     "start_time": "2024-02-26T10:16:42.639757106Z"
    }
   },
   "outputs": [],
   "source": [
    "import numpy as np\n",
    "from scipy.optimize import minimize\n",
    "import matplotlib.pyplot as plt"
   ]
  },
  {
   "cell_type": "code",
   "outputs": [],
   "source": [
    "# Generate synthetic data\n",
    "np.random.seed(0)  # For reproducibility\n",
    "true_mu = 5\n",
    "true_sigma = 2\n",
    "data = np.random.normal(true_mu, true_sigma, 1000)"
   ],
   "metadata": {
    "collapsed": false,
    "ExecuteTime": {
     "end_time": "2024-02-26T10:16:58.583460885Z",
     "start_time": "2024-02-26T10:16:58.579878693Z"
    }
   },
   "id": "6ac1364c9803d70b",
   "execution_count": 3
  },
  {
   "cell_type": "code",
   "outputs": [
    {
     "data": {
      "text/plain": "<Figure size 640x480 with 1 Axes>",
      "image/png": "[encoded data removed]"
     },
     "metadata": {},
     "output_type": "display_data"
    }
   ],
   "source": [
    "plt.hist(data, bins=100, density=True)\n",
    "plt.show()"
   ],
   "metadata": {
    "collapsed": false,
    "ExecuteTime": {
     "end_time": "2024-02-26T10:17:31.844373669Z",
     "start_time": "2024-02-26T10:17:31.694373351Z"
    }
   },
   "id": "a05fba6d3a2461b7",
   "execution_count": 8
  },
  {
   "cell_type": "code",
   "outputs": [
    {
     "data": {
      "text/plain": "(4.909486585019609, 1.9740663173380517)"
     },
     "execution_count": 9,
     "metadata": {},
     "output_type": "execute_result"
    }
   ],
   "source": [
    "# Define the log likelihood function for a Gaussian distribution\n",
    "def neg_log_likelihood(params, data):\n",
    "    mu, sigma = params[0], params[1]\n",
    "    n = len(data)\n",
    "    ll = -n / 2.0 * np.log(2 * np.pi) - n * np.log(sigma) - np.sum((data - mu) ** 2) / (2 * sigma ** 2)\n",
    "    return -ll  # Negate because we will minimize this function\n",
    "\n",
    "# Initial guesses for mu and sigma\n",
    "initial_guess = [np.mean(data), np.std(data)]\n",
    "\n",
    "# Minimize the negative log likelihood\n",
    "result = minimize(neg_log_likelihood, initial_guess, args=(data,))\n",
    "\n",
    "estimated_mu, estimated_sigma = result.x\n",
    "estimated_mu, estimated_sigma"
   ],
   "metadata": {
    "collapsed": false,
    "ExecuteTime": {
     "end_time": "2024-02-26T10:18:12.596516473Z",
     "start_time": "2024-02-26T10:18:12.552288036Z"
    }
   },
   "id": "b45f38f018bc3f73",
   "execution_count": 9
  },
  {
   "cell_type": "code",
   "outputs": [
    {
     "data": {
      "text/plain": "(4.909486586936491, 1.9740663079508276)"
     },
     "execution_count": 16,
     "metadata": {},
     "output_type": "execute_result"
    }
   ],
   "source": [
    "# Initial guesses for mu and sigma\n",
    "initial_guess = [2, 2]\n",
    "\n",
    "# Minimize the negative log likelihood\n",
    "result = minimize(neg_log_likelihood, initial_guess, args=(data,))\n",
    "\n",
    "estimated_mu, estimated_sigma = result.x\n",
    "estimated_mu, estimated_sigma"
   ],
   "metadata": {
    "collapsed": false,
    "ExecuteTime": {
     "end_time": "2024-02-26T10:20:50.845369349Z",
     "start_time": "2024-02-26T10:20:50.833878909Z"
    }
   },
   "id": "ca1350dae92b5039",
   "execution_count": 16
  }
 ],
 "metadata": {
  "kernelspec": {
   "display_name": "Python 3",
   "language": "python",
   "name": "python3"
  },
  "language_info": {
   "codemirror_mode": {
    "name": "ipython",
    "version": 2
   },
   "file_extension": ".py",
   "mimetype": "text/x-python",
   "name": "python",
   "nbconvert_exporter": "python",
   "pygments_lexer": "ipython2",
   "version": "2.7.6"
  }
 },
 "nbformat": 4,
 "nbformat_minor": 5
}
