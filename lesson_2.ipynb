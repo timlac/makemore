{
 "cells": [
  {
   "cell_type": "code",
   "execution_count": 1,
   "id": "initial_id",
   "metadata": {
    "collapsed": true,
    "ExecuteTime": {
     "end_time": "2023-10-03T16:35:43.411760208Z",
     "start_time": "2023-10-03T16:35:42.654552214Z"
    }
   },
   "outputs": [],
   "source": [
    "import torch\n",
    "import torch.nn.functional as F\n",
    "%matplotlib inline "
   ]
  },
  {
   "cell_type": "code",
   "execution_count": 2,
   "outputs": [
    {
     "data": {
      "text/plain": "['emma', 'olivia', 'ava', 'isabella', 'sophia', 'charlotte', 'mia', 'amelia']"
     },
     "execution_count": 2,
     "metadata": {},
     "output_type": "execute_result"
    }
   ],
   "source": [
    "words = open('names.txt', 'r').read().splitlines()\n",
    "words[:8 ]"
   ],
   "metadata": {
    "collapsed": false,
    "ExecuteTime": {
     "end_time": "2023-10-03T16:36:03.277723660Z",
     "start_time": "2023-10-03T16:36:03.273107138Z"
    }
   },
   "id": "65e2c0f6fbf7a808"
  },
  {
   "cell_type": "code",
   "execution_count": 3,
   "outputs": [
    {
     "data": {
      "text/plain": "32033"
     },
     "execution_count": 3,
     "metadata": {},
     "output_type": "execute_result"
    }
   ],
   "source": [
    "len(words)"
   ],
   "metadata": {
    "collapsed": false,
    "ExecuteTime": {
     "end_time": "2023-10-03T16:36:13.311323393Z",
     "start_time": "2023-10-03T16:36:13.270330707Z"
    }
   },
   "id": "37793f2830a998a3"
  },
  {
   "cell_type": "code",
   "execution_count": 4,
   "outputs": [],
   "source": [
    "chars = sorted(list(set(''.join(words))))\n",
    "# string to integer\n",
    "stoi = {s:i+1 for i,s in enumerate(chars)}\n",
    "stoi['.'] = 0\n",
    "# integer to string\n",
    "itos = {i:s for s,i in stoi.items()}"
   ],
   "metadata": {
    "collapsed": false,
    "ExecuteTime": {
     "end_time": "2023-10-03T16:36:33.100348599Z",
     "start_time": "2023-10-03T16:36:33.097619048Z"
    }
   },
   "id": "83ff5a63dd12a2df"
  },
  {
   "cell_type": "code",
   "execution_count": 15,
   "outputs": [
    {
     "name": "stdout",
     "output_type": "stream",
     "text": [
      "emma\n",
      "... ---> e\n",
      "..e ---> m\n",
      ".em ---> m\n",
      "emm ---> a\n",
      "mma ---> .\n",
      "olivia\n",
      "... ---> o\n",
      "..o ---> l\n",
      ".ol ---> i\n",
      "oli ---> v\n",
      "liv ---> i\n",
      "ivi ---> a\n",
      "via ---> .\n",
      "ava\n",
      "... ---> a\n",
      "..a ---> v\n",
      ".av ---> a\n",
      "ava ---> .\n",
      "isabella\n",
      "... ---> i\n",
      "..i ---> s\n",
      ".is ---> a\n",
      "isa ---> b\n",
      "sab ---> e\n",
      "abe ---> l\n",
      "bel ---> l\n",
      "ell ---> a\n",
      "lla ---> .\n",
      "sophia\n",
      "... ---> s\n",
      "..s ---> o\n",
      ".so ---> p\n",
      "sop ---> h\n",
      "oph ---> i\n",
      "phi ---> a\n",
      "hia ---> .\n"
     ]
    }
   ],
   "source": [
    "# build the dataset\n",
    "\n",
    "# context length: how many characters we take to predict the next one\n",
    "block_size = 3\n",
    "\n",
    "X, Y = [], []\n",
    "for w in words[:5]:\n",
    "    print(w)\n",
    "    \n",
    "    context = [0] * block_size\n",
    "    for ch in w + '.':\n",
    "        ix = stoi[ch]\n",
    "        X.append(context)\n",
    "        Y.append(ix)\n",
    "        print(\"\".join(itos[i] for i in context), \"--->\", itos[ix])\n",
    "        context = context[1:] + [ix]\n",
    "\n",
    "X = torch.tensor(X)\n",
    "y = torch.tensor(Y)"
   ],
   "metadata": {
    "collapsed": false,
    "ExecuteTime": {
     "end_time": "2023-10-03T17:18:58.606773764Z",
     "start_time": "2023-10-03T17:18:58.564672860Z"
    }
   },
   "id": "ba428cfe3791c926"
  },
  {
   "cell_type": "code",
   "execution_count": 18,
   "outputs": [
    {
     "data": {
      "text/plain": "tensor([[ 0,  0,  0],\n        [ 0,  0,  5],\n        [ 0,  5, 13],\n        [ 5, 13, 13],\n        [13, 13,  1],\n        [ 0,  0,  0],\n        [ 0,  0, 15],\n        [ 0, 15, 12],\n        [15, 12,  9],\n        [12,  9, 22],\n        [ 9, 22,  9],\n        [22,  9,  1],\n        [ 0,  0,  0],\n        [ 0,  0,  1],\n        [ 0,  1, 22],\n        [ 1, 22,  1],\n        [ 0,  0,  0],\n        [ 0,  0,  9],\n        [ 0,  9, 19],\n        [ 9, 19,  1],\n        [19,  1,  2],\n        [ 1,  2,  5],\n        [ 2,  5, 12],\n        [ 5, 12, 12],\n        [12, 12,  1],\n        [ 0,  0,  0],\n        [ 0,  0, 19],\n        [ 0, 19, 15],\n        [19, 15, 16],\n        [15, 16,  8],\n        [16,  8,  9],\n        [ 8,  9,  1]])"
     },
     "execution_count": 18,
     "metadata": {},
     "output_type": "execute_result"
    }
   ],
   "source": [
    "X"
   ],
   "metadata": {
    "collapsed": false,
    "ExecuteTime": {
     "end_time": "2023-10-03T17:20:52.992044957Z",
     "start_time": "2023-10-03T17:20:52.989191076Z"
    }
   },
   "id": "346f2b8760f07468"
  }
 ],
 "metadata": {
  "kernelspec": {
   "display_name": "Python 3",
   "language": "python",
   "name": "python3"
  },
  "language_info": {
   "codemirror_mode": {
    "name": "ipython",
    "version": 2
   },
   "file_extension": ".py",
   "mimetype": "text/x-python",
   "name": "python",
   "nbconvert_exporter": "python",
   "pygments_lexer": "ipython2",
   "version": "2.7.6"
  }
 },
 "nbformat": 4,
 "nbformat_minor": 5
}
